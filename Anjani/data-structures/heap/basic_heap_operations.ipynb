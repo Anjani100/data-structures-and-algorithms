{
 "cells": [
  {
   "cell_type": "code",
   "execution_count": 5,
   "metadata": {},
   "outputs": [
    {
     "name": "stdout",
     "output_type": "stream",
     "text": [
      "Max-Heap array: [9, 5, 4, 3, 2]\n",
      "After deleting an element: [9, 5, 2, 3]\n"
     ]
    }
   ],
   "source": [
    "class Heap:\n",
    "    def __init__(self):\n",
    "        self.array = []\n",
    "    \n",
    "    def heapify(self, n, i):\n",
    "        largest = i\n",
    "        l = 2 * i + 1\n",
    "        r = 2 * i + 2\n",
    "        if l < n and self.array[l] > self.array[i]:\n",
    "            largest = l\n",
    "        if r < n and self.array[r] > self.array[largest]:\n",
    "            largest = r\n",
    "        if largest != i:\n",
    "            self.array[i], self.array[largest] = self.array[largest], self.array[i]\n",
    "            self.heapify(n, largest)\n",
    "    \n",
    "    def insert(self, val):\n",
    "        n = len(self.array)\n",
    "        self.array.append(val)\n",
    "        if n:\n",
    "            for i in range(n // 2 - 1, -1, -1):\n",
    "                self.heapify(n, i)\n",
    "    \n",
    "    def delete(self, val):\n",
    "        flag = 0\n",
    "        for i in range(len(self.array)):\n",
    "            if self.array[i] == val:\n",
    "                flag = 1\n",
    "                break\n",
    "        if not flag:\n",
    "            return \"Number is not present in the array!\"\n",
    "        self.array[i], self.array[-1] = self.array[-1], self.array[i]\n",
    "        self.array.pop()\n",
    "        n = len(self.array)\n",
    "        for i in range(n // 2 - 1, -1, -1):\n",
    "            self.heapify(n, i)\n",
    "\n",
    "if __name__=='__main__':\n",
    "    arr = Heap()\n",
    "\n",
    "    arr.insert(3)\n",
    "    arr.insert(4)\n",
    "    arr.insert(9)\n",
    "    arr.insert(5)\n",
    "    arr.insert(2)\n",
    "\n",
    "    print (\"Max-Heap array: \" + str(arr.array))\n",
    "\n",
    "    arr.delete(4)\n",
    "    print(\"After deleting an element: \" + str(arr.array))"
   ]
  },
  {
   "cell_type": "code",
   "execution_count": null,
   "metadata": {},
   "outputs": [],
   "source": []
  }
 ],
 "metadata": {
  "kernelspec": {
   "display_name": "Python 3",
   "language": "python",
   "name": "python3"
  },
  "language_info": {
   "codemirror_mode": {
    "name": "ipython",
    "version": 3
   },
   "file_extension": ".py",
   "mimetype": "text/x-python",
   "name": "python",
   "nbconvert_exporter": "python",
   "pygments_lexer": "ipython3",
   "version": "3.6.8"
  }
 },
 "nbformat": 4,
 "nbformat_minor": 2
}

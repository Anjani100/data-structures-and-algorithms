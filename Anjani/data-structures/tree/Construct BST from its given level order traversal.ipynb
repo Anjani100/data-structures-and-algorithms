{
 "cells": [
  {
   "cell_type": "code",
   "execution_count": 3,
   "metadata": {},
   "outputs": [
    {
     "name": "stdout",
     "output_type": "stream",
     "text": [
      "1 3 4 5 6 7 8 10 12 "
     ]
    }
   ],
   "source": [
    "class Node:\n",
    "    def __init__(self, data):\n",
    "        self.val = data\n",
    "        self.left = None\n",
    "        self.right = None\n",
    "\n",
    "def inorder(root):\n",
    "    if root:\n",
    "        inorder(root.left)\n",
    "        print(root.val, end = ' ')\n",
    "        inorder(root.right)\n",
    "\n",
    "def constructBST(root, val):\n",
    "    if not root:\n",
    "        return Node(val)\n",
    "    if root.val == val:\n",
    "        return root\n",
    "    if root.val > val:\n",
    "        root.left = constructBST(root.left, val)\n",
    "    else:\n",
    "        root.right = constructBST(root.right, val)\n",
    "    return root\n",
    "\n",
    "if __name__=='__main__':\n",
    "    arr = [7, 4, 12, 3, 6, 8, 1, 5, 10]\n",
    "    root = None\n",
    "    n = len(arr)\n",
    "    for i in range(n):\n",
    "        root = constructBST(root, arr[i])\n",
    "    inorder(root)"
   ]
  },
  {
   "cell_type": "code",
   "execution_count": null,
   "metadata": {},
   "outputs": [],
   "source": []
  }
 ],
 "metadata": {
  "kernelspec": {
   "display_name": "Python 3",
   "language": "python",
   "name": "python3"
  },
  "language_info": {
   "codemirror_mode": {
    "name": "ipython",
    "version": 3
   },
   "file_extension": ".py",
   "mimetype": "text/x-python",
   "name": "python",
   "nbconvert_exporter": "python",
   "pygments_lexer": "ipython3",
   "version": "3.6.8"
  }
 },
 "nbformat": 4,
 "nbformat_minor": 2
}

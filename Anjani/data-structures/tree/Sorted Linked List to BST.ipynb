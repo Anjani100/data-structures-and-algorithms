{
 "cells": [
  {
   "cell_type": "code",
   "execution_count": 17,
   "metadata": {},
   "outputs": [
    {
     "name": "stdout",
     "output_type": "stream",
     "text": [
      "4 2 1 3 6 5 7 "
     ]
    }
   ],
   "source": [
    "class Node:\n",
    "    def __init__(self, data):\n",
    "        self.val = data\n",
    "        self.left = None\n",
    "        self.right = None\n",
    "\n",
    "class NodeL:\n",
    "    def __init__(self, data):\n",
    "        self.val = data\n",
    "        self.next = None\n",
    "\n",
    "def insert(root, key):\n",
    "    if root is None:\n",
    "        return Node(key)\n",
    "    else:\n",
    "        if root.val == key:\n",
    "            return root\n",
    "        elif root.val > key:\n",
    "            root.left = insert(root.left, key)\n",
    "        else:\n",
    "            root.right = insert(root.right, key)\n",
    "    return root\n",
    "\n",
    "def ll_to_bst(head, tail, root):\n",
    "    if head and tail and head.val < tail.val:\n",
    "        tail.next = None\n",
    "        temp = slow = fast = head\n",
    "        while fast and fast.next:\n",
    "            temp = slow\n",
    "            slow = slow.next\n",
    "            fast = fast.next.next\n",
    "        root = Node(slow.val)\n",
    "        root.left = ll_to_bst(head, temp, root.left)\n",
    "        root.right = ll_to_bst(slow, tail, root.right)\n",
    "    return root\n",
    "\n",
    "def inorder(root):\n",
    "    if root:\n",
    "        inorder(root.left)\n",
    "        print(root.val, end = ' ')\n",
    "        inorder(root.right)\n",
    "\n",
    "def preorder(root):\n",
    "    if root:\n",
    "        print(root.val, end = ' ')\n",
    "        preorder(root.left)\n",
    "        preorder(root.right)\n",
    "\n",
    "if __name__=='__main__':\n",
    "    llist = NodeL(1)\n",
    "    llist.next = NodeL(2)\n",
    "    llist.next.next = NodeL(3)\n",
    "    llist.next.next.next = NodeL(4)\n",
    "    llist.next.next.next.next = NodeL(5)\n",
    "    llist.next.next.next.next.next = NodeL(6)\n",
    "    llist.next.next.next.next.next.next = NodeL(7)\n",
    "    tail = llist.next.next.next.next.next.next\n",
    "    root = None\n",
    "    root = ll_to_bst(llist, tail, root)\n",
    "    root = insert(root, llist.val)\n",
    "    preorder(root)"
   ]
  },
  {
   "cell_type": "code",
   "execution_count": null,
   "metadata": {},
   "outputs": [],
   "source": []
  }
 ],
 "metadata": {
  "kernelspec": {
   "display_name": "Python 3",
   "language": "python",
   "name": "python3"
  },
  "language_info": {
   "codemirror_mode": {
    "name": "ipython",
    "version": 3
   },
   "file_extension": ".py",
   "mimetype": "text/x-python",
   "name": "python",
   "nbconvert_exporter": "python",
   "pygments_lexer": "ipython3",
   "version": "3.6.8"
  }
 },
 "nbformat": 4,
 "nbformat_minor": 2
}

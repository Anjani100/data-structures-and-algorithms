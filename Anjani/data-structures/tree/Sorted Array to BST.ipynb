{
 "cells": [
  {
   "cell_type": "code",
   "execution_count": 6,
   "metadata": {},
   "outputs": [
    {
     "name": "stdout",
     "output_type": "stream",
     "text": [
      "4 2 1 3 6 5 7 "
     ]
    }
   ],
   "source": [
    "class Node():\n",
    "    def __init__(self, data):\n",
    "        self.val = data\n",
    "        self.left = None\n",
    "        self.right = None\n",
    "\n",
    "def arr_to_bst(arr, root, low, high):\n",
    "    if low <= high:\n",
    "        mid = (low + high) // 2\n",
    "        root = Node(arr[mid])\n",
    "        root.left = arr_to_bst(arr, root.left, low, mid - 1)\n",
    "        root.right = arr_to_bst(arr, root.right, mid + 1, high)\n",
    "    return root\n",
    "\n",
    "def inorder(root):\n",
    "    if root:\n",
    "        inorder(root.left)\n",
    "        print(root.val, end = ' ')\n",
    "        inorder(root.right)\n",
    "\n",
    "def preorder(root):\n",
    "    if root:\n",
    "        print(root.val, end = ' ')\n",
    "        preorder(root.left)\n",
    "        preorder(root.right)\n",
    "\n",
    "if __name__=='__main__':\n",
    "    arr = [1, 2, 3, 4, 5, 6, 7]\n",
    "    root = None\n",
    "    root = arr_to_bst(arr, root, 0, len(arr) - 1)\n",
    "    preorder(root)"
   ]
  },
  {
   "cell_type": "code",
   "execution_count": null,
   "metadata": {},
   "outputs": [],
   "source": []
  }
 ],
 "metadata": {
  "kernelspec": {
   "display_name": "Python 3",
   "language": "python",
   "name": "python3"
  },
  "language_info": {
   "codemirror_mode": {
    "name": "ipython",
    "version": 3
   },
   "file_extension": ".py",
   "mimetype": "text/x-python",
   "name": "python",
   "nbconvert_exporter": "python",
   "pygments_lexer": "ipython3",
   "version": "3.6.8"
  }
 },
 "nbformat": 4,
 "nbformat_minor": 2
}

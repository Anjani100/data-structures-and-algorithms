{
 "cells": [
  {
   "cell_type": "code",
   "execution_count": 9,
   "metadata": {},
   "outputs": [
    {
     "name": "stdout",
     "output_type": "stream",
     "text": [
      "1 2 3 \n",
      "1 3 2 \n",
      "2 1 3 \n",
      "3 1 2 \n",
      "3 2 1 \n"
     ]
    }
   ],
   "source": [
    "class Node:\n",
    "    def __init__(self, data):\n",
    "        self.val = data\n",
    "        self.left = None\n",
    "        self.right = None\n",
    "\n",
    "def preorder(root):\n",
    "    if root:\n",
    "        print(root.val, end = ' ')\n",
    "        preorder(root.left)\n",
    "        preorder(root.right)\n",
    "\n",
    "def constructTrees(start, end):\n",
    "    arr = []\n",
    "    if start > end:\n",
    "        arr.append(None)\n",
    "        return arr\n",
    "    for i in range(start, end + 1):\n",
    "        leftSubTree = constructTrees(start, i - 1)\n",
    "        rightSubTree = constructTrees(i + 1, end)\n",
    "        for j in range(len(leftSubTree)):\n",
    "            left = leftSubTree[j]\n",
    "            for k in range(len(rightSubTree)):\n",
    "                right = rightSubTree[k]\n",
    "                node = Node(i)\n",
    "                node.left = left\n",
    "                node.right = right\n",
    "                arr.append(node)\n",
    "    return arr\n",
    "\n",
    "if __name__ == '__main__':\n",
    "    totalTreesFrom1toN = constructTrees(1, 3)\n",
    "    \n",
    "    for i in range(len(totalTreesFrom1toN)):\n",
    "        preorder(totalTreesFrom1toN[i])\n",
    "        print()"
   ]
  },
  {
   "cell_type": "code",
   "execution_count": null,
   "metadata": {},
   "outputs": [],
   "source": []
  }
 ],
 "metadata": {
  "kernelspec": {
   "display_name": "Python 3",
   "language": "python",
   "name": "python3"
  },
  "language_info": {
   "codemirror_mode": {
    "name": "ipython",
    "version": 3
   },
   "file_extension": ".py",
   "mimetype": "text/x-python",
   "name": "python",
   "nbconvert_exporter": "python",
   "pygments_lexer": "ipython3",
   "version": "3.6.8"
  }
 },
 "nbformat": 4,
 "nbformat_minor": 2
}

{
 "cells": [
  {
   "cell_type": "code",
   "execution_count": 2,
   "metadata": {},
   "outputs": [
    {
     "name": "stdout",
     "output_type": "stream",
     "text": [
      "2 0 1 3 "
     ]
    }
   ],
   "source": [
    "from collections import defaultdict\n",
    "class Graph:\n",
    "    def __init__(self):\n",
    "        self.graph = defaultdict(list)\n",
    "    \n",
    "    def add_edge(self, u, v):\n",
    "        self.graph[u].append(v)\n",
    "    \n",
    "    def DFS(self, v, visited = defaultdict(int)):\n",
    "        visited[v] = 1\n",
    "        print(v, end = ' ')\n",
    "        for i in self.graph[v]:\n",
    "            if not visited[i]:\n",
    "                self.DFS(i, visited)\n",
    "    \n",
    "if __name__=='__main__':\n",
    "    graph = Graph()\n",
    "    graph.add_edge(0, 1)\n",
    "    graph.add_edge(0, 2)\n",
    "    graph.add_edge(1, 2)\n",
    "    graph.add_edge(2, 0)\n",
    "    graph.add_edge(2, 3)\n",
    "    graph.add_edge(3, 3)\n",
    "\n",
    "    graph.DFS(2)"
   ]
  },
  {
   "cell_type": "code",
   "execution_count": 3,
   "metadata": {},
   "outputs": [
    {
     "name": "stdout",
     "output_type": "stream",
     "text": [
      "0 1 2 3 "
     ]
    }
   ],
   "source": [
    "## For Disconnected Graph\n",
    "\n",
    "from collections import defaultdict\n",
    "class Graph:\n",
    "    def __init__(self):\n",
    "        self.graph = defaultdict(list)\n",
    "    \n",
    "    def add_edge(self, u, v):\n",
    "        self.graph[u].append(v)\n",
    "    \n",
    "    def DFS(self, v, visited):\n",
    "        visited[v] = 1\n",
    "        print(v, end = ' ')\n",
    "        for i in self.graph[v]:\n",
    "            if not visited[i]:\n",
    "                self.DFS(i, visited)\n",
    "    \n",
    "if __name__=='__main__':\n",
    "    g = Graph()\n",
    "    g.add_edge(0, 1)\n",
    "    g.add_edge(0, 2)\n",
    "    g.add_edge(1, 2)\n",
    "    g.add_edge(2, 0)\n",
    "    g.add_edge(2, 3)\n",
    "    g.add_edge(3, 3)\n",
    "    visited = defaultdict(int)\n",
    "    for i in g.graph:\n",
    "        if not visited[i]:\n",
    "            graph.DFS(i)"
   ]
  },
  {
   "cell_type": "code",
   "execution_count": null,
   "metadata": {},
   "outputs": [],
   "source": []
  }
 ],
 "metadata": {
  "kernelspec": {
   "display_name": "Python 3",
   "language": "python",
   "name": "python3"
  },
  "language_info": {
   "codemirror_mode": {
    "name": "ipython",
    "version": 3
   },
   "file_extension": ".py",
   "mimetype": "text/x-python",
   "name": "python",
   "nbconvert_exporter": "python",
   "pygments_lexer": "ipython3",
   "version": "3.6.8"
  }
 },
 "nbformat": 4,
 "nbformat_minor": 2
}

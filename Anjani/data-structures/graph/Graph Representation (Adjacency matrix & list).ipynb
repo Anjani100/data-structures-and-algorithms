{
 "cells": [
  {
   "cell_type": "markdown",
   "metadata": {},
   "source": [
    "### Adjacency Matrix"
   ]
  },
  {
   "cell_type": "code",
   "execution_count": 2,
   "metadata": {},
   "outputs": [
    {
     "name": "stdout",
     "output_type": "stream",
     "text": [
      "[0, 1, 0, 0, 1]\n",
      "[1, 0, 1, 1, 1]\n",
      "[0, 1, 0, 1, 0]\n",
      "[0, 1, 1, 0, 1]\n",
      "[1, 1, 0, 1, 0]\n"
     ]
    }
   ],
   "source": [
    "def add_edge(matrix, src, dest):\n",
    "    matrix[src][dest] = 1\n",
    "    matrix[dest][src] = 1\n",
    "\n",
    "if __name__=='__main__':\n",
    "    n = 5\n",
    "    matrix = [[0 for _ in range(5)] for _ in range(5)]\n",
    "    add_edge(matrix, 0, 1)\n",
    "    add_edge(matrix, 0, 4)\n",
    "    add_edge(matrix, 1, 2)\n",
    "    add_edge(matrix, 1, 3)\n",
    "    add_edge(matrix, 1, 4)\n",
    "    add_edge(matrix, 2, 3)\n",
    "    add_edge(matrix, 3, 4)\n",
    "    for m in matrix:\n",
    "        print(m)"
   ]
  },
  {
   "cell_type": "markdown",
   "metadata": {},
   "source": [
    "### Adjacency List"
   ]
  },
  {
   "cell_type": "code",
   "execution_count": 5,
   "metadata": {},
   "outputs": [
    {
     "name": "stdout",
     "output_type": "stream",
     "text": [
      "0: 1 -> 4 -> X\n",
      "1: 0 -> 2 -> 3 -> 4 -> X\n",
      "2: 1 -> 3 -> X\n",
      "3: 1 -> 2 -> 4 -> X\n",
      "4: 0 -> 1 -> 3 -> X\n"
     ]
    }
   ],
   "source": [
    "class Node:\n",
    "    def __init__(self, val):\n",
    "        self.val = val\n",
    "        self.next = None\n",
    "\n",
    "class Graph:\n",
    "    def __init__(self, n):\n",
    "        self.n = n\n",
    "        self.arr = [None] * n\n",
    "    \n",
    "    def add_edge(self, src, dest):\n",
    "        if src > self.n - 1 or dest > self.n - 1:\n",
    "            print('A maximum of', self.n, 'vertices are allowed')\n",
    "        node = Node(dest)\n",
    "        if self.arr[src]:\n",
    "            ptr = self.arr[src]\n",
    "            while ptr.next:\n",
    "                ptr = ptr.next\n",
    "            ptr.next = node\n",
    "        else:\n",
    "            self.arr[src] = node\n",
    "        node = Node(src)\n",
    "        if self.arr[dest]:\n",
    "            ptr = self.arr[dest]\n",
    "            while ptr.next:\n",
    "                ptr = ptr.next\n",
    "            ptr.next = node\n",
    "        else:\n",
    "            self.arr[dest] = node\n",
    "    \n",
    "    def display(self):\n",
    "        for i in range(n):\n",
    "            if self.arr[i]:\n",
    "                ptr = self.arr[i]\n",
    "                print(i, end = ': ')\n",
    "                while ptr:\n",
    "                    print(ptr.val, '->', end = ' ')\n",
    "                    ptr = ptr.next\n",
    "                print('X')\n",
    "    \n",
    "if __name__=='__main__':\n",
    "    graph = Graph(5)\n",
    "    graph.add_edge(0, 1)\n",
    "    graph.add_edge(0, 4)\n",
    "    graph.add_edge(1, 2)\n",
    "    graph.add_edge(1, 3)\n",
    "    graph.add_edge(1, 4)\n",
    "    graph.add_edge(2, 3)\n",
    "    graph.add_edge(3, 4)\n",
    "    graph.display()"
   ]
  },
  {
   "cell_type": "code",
   "execution_count": null,
   "metadata": {},
   "outputs": [],
   "source": []
  }
 ],
 "metadata": {
  "kernelspec": {
   "display_name": "Python 3",
   "language": "python",
   "name": "python3"
  },
  "language_info": {
   "codemirror_mode": {
    "name": "ipython",
    "version": 3
   },
   "file_extension": ".py",
   "mimetype": "text/x-python",
   "name": "python",
   "nbconvert_exporter": "python",
   "pygments_lexer": "ipython3",
   "version": "3.6.8"
  }
 },
 "nbformat": 4,
 "nbformat_minor": 2
}

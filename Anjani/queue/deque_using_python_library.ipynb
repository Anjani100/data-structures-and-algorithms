{
 "cells": [
  {
   "cell_type": "code",
   "execution_count": 25,
   "metadata": {},
   "outputs": [
    {
     "name": "stdout",
     "output_type": "stream",
     "text": [
      "deque([87, 85, 94, 21, 17, 15, 8, 4, 9, 7, 3, 2, 1])\n"
     ]
    }
   ],
   "source": [
    "from collections import deque\n",
    "\n",
    "a = [1, 2, 3, 7, 9, 4, 8]\n",
    "deque_array = deque(a)\n",
    "# print(deque_array)\n",
    "\n",
    "deque_array.append(15)\n",
    "deque_array.appendleft(17)\n",
    "# print(deque_array)\n",
    "\n",
    "deque_array.pop()\n",
    "deque_array.popleft()\n",
    "# print(deque_array)\n",
    "\n",
    "# This function returns the first index of the value mentioned in arguments, starting searching from beg till end index.\n",
    "deque_array.index(3, 0, len(deque_array))\n",
    "\n",
    "deque_array.insert(4, 57)\n",
    "# print(deque_array)\n",
    "\n",
    "# This function removes the first occurrence of value mentioned in arguments.\n",
    "deque_array.remove(57)\n",
    "# print(deque_array)\n",
    "\n",
    "deque_array.count(7)\n",
    "\n",
    "b = [15, 17, 21]\n",
    "deque_array.extend(b)\n",
    "\n",
    "# print(deque_array)\n",
    "\n",
    "c = [87, 85, 94]\n",
    "deque_array.extendleft(c)\n",
    "\n",
    "# print(deque_array)\n",
    "\n",
    "deque_array.rotate(-3)\n",
    "# print(deque_array)\n",
    "\n",
    "deque_array.reverse()\n",
    "print(deque_array)"
   ]
  },
  {
   "cell_type": "code",
   "execution_count": null,
   "metadata": {},
   "outputs": [],
   "source": []
  }
 ],
 "metadata": {
  "kernelspec": {
   "display_name": "Python 3",
   "language": "python",
   "name": "python3"
  },
  "language_info": {
   "codemirror_mode": {
    "name": "ipython",
    "version": 3
   },
   "file_extension": ".py",
   "mimetype": "text/x-python",
   "name": "python",
   "nbconvert_exporter": "python",
   "pygments_lexer": "ipython3",
   "version": "3.6.8"
  }
 },
 "nbformat": 4,
 "nbformat_minor": 2
}

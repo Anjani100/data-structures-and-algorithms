{
 "cells": [
  {
   "cell_type": "code",
   "execution_count": 3,
   "metadata": {},
   "outputs": [
    {
     "name": "stdout",
     "output_type": "stream",
     "text": [
      "Enter -1 to exit.\n",
      "1. Create a linked list.\n",
      "2. Display a linked list.\n",
      "Enter your choice: 1\n",
      "Enter -1 to stop.\n",
      "Enter the number you want to insert: 4\n",
      "Enter -1 to stop.\n",
      "Enter the number you want to insert: 5\n",
      "Enter -1 to stop.\n",
      "Enter the number you want to insert: 7\n",
      "Enter -1 to stop.\n",
      "Enter the number you want to insert: 6\n",
      "Enter -1 to stop.\n",
      "Enter the number you want to insert: -1\n",
      "Enter -1 to exit.\n",
      "1. Create a linked list.\n",
      "2. Display a linked list.\n",
      "Enter your choice: 2\n",
      "4->5->7->6->X\n",
      "Enter -1 to exit.\n",
      "1. Create a linked list.\n",
      "2. Display a linked list.\n",
      "Enter your choice: -1\n"
     ]
    }
   ],
   "source": [
    "class Node:\n",
    "    def __init__(self, val):\n",
    "        self.data = val\n",
    "        self.next = None\n",
    "\n",
    "class linked_list:\n",
    "    def __init__(self):\n",
    "        self.head = None\n",
    "        self.tail = None\n",
    "    \n",
    "    def create(self, llist):\n",
    "        if llist.head:\n",
    "            print('Linked list is already created!')\n",
    "            return llist\n",
    "        while True:\n",
    "            print(\"Enter -1 to stop.\")\n",
    "            n = int(input('Enter the number you want to insert: '))\n",
    "            if n == -1:\n",
    "                break\n",
    "            temp = Node(n)\n",
    "            if not llist.head:\n",
    "                llist.head = temp\n",
    "                llist.tail = temp\n",
    "            else:\n",
    "                llist.tail.next = temp\n",
    "                llist.tail = temp\n",
    "        \n",
    "        return llist\n",
    "    \n",
    "    def display(self, llist):\n",
    "        if not llist.head:\n",
    "            print('List is empty, cannot display empty list!')\n",
    "            return llist\n",
    "        node = llist.head\n",
    "        while node != None:\n",
    "            print(node.data, end = \" -> \")\n",
    "            node = node.next\n",
    "        print('X')\n",
    "\n",
    "if __name__=='__main__':\n",
    "    llist = linked_list()\n",
    "    while True:\n",
    "        print('Enter -1 to exit.')\n",
    "        print('1. Create a linked list.')\n",
    "        print('2. Display a linked list.')\n",
    "        ch = int(input('Enter your choice: '))\n",
    "        if ch == 1:\n",
    "            llist = llist.create(llist)\n",
    "        elif ch == 2:\n",
    "            llist.display(llist)\n",
    "        else:\n",
    "            break"
   ]
  },
  {
   "cell_type": "code",
   "execution_count": null,
   "metadata": {},
   "outputs": [],
   "source": []
  }
 ],
 "metadata": {
  "kernelspec": {
   "display_name": "Python 3",
   "language": "python",
   "name": "python3"
  },
  "language_info": {
   "codemirror_mode": {
    "name": "ipython",
    "version": 3
   },
   "file_extension": ".py",
   "mimetype": "text/x-python",
   "name": "python",
   "nbconvert_exporter": "python",
   "pygments_lexer": "ipython3",
   "version": "3.6.8"
  }
 },
 "nbformat": 4,
 "nbformat_minor": 2
}

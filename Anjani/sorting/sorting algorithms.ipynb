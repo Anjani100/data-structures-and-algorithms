{
 "cells": [
  {
   "cell_type": "code",
   "execution_count": null,
   "metadata": {},
   "outputs": [],
   "source": [
    "import time, random\n",
    "\n",
    "class Sort:\n",
    "    def __init__(self, n):\n",
    "        self.array = []\n",
    "        for i in range(n):\n",
    "            self.array.append(random.randrange(100000))\n",
    "    \n",
    "    def bubble_sort(self):\n",
    "        # Takes forever to sort an array of size 10^5\n",
    "        # Time Complexity: O(n^2)\n",
    "        # Space Complexity: O(1)\n",
    "        start = time.time()\n",
    "        for i in range(len(self.array)):\n",
    "            flag = 0\n",
    "            for j in range(i + 1, len(self.array)):\n",
    "                flag = 1\n",
    "                if self.array[i] > self.array[j]:\n",
    "                    self.array[i], self.array[j] = self.array[j], self.array[i]\n",
    "            \n",
    "            # Optimized Bubble Sort (breaks if array is sorted before reaching the last element)\n",
    "            if flag == 0:\n",
    "                break\n",
    "        print(self.array)\n",
    "        end = time.time()\n",
    "        print('Time Taken:', end - start, 'seconds.')\n",
    "\n",
    "if __name__=='__main__':\n",
    "    n = int(input('Enter the number of elements you want in the array: '))\n",
    "    array = Sort(n)\n",
    "    while True:\n",
    "        print('Enter -1 to exit.')\n",
    "        print('1. Bubble Sort.')\n",
    "        ch = int(input('Enter your choice: '))\n",
    "        if ch == 1:\n",
    "            array.bubble_sort()\n",
    "        else:\n",
    "            break"
   ]
  },
  {
   "cell_type": "code",
   "execution_count": null,
   "metadata": {},
   "outputs": [],
   "source": []
  }
 ],
 "metadata": {
  "kernelspec": {
   "display_name": "Python 3",
   "language": "python",
   "name": "python3"
  },
  "language_info": {
   "codemirror_mode": {
    "name": "ipython",
    "version": 3
   },
   "file_extension": ".py",
   "mimetype": "text/x-python",
   "name": "python",
   "nbconvert_exporter": "python",
   "pygments_lexer": "ipython3",
   "version": "3.6.8"
  }
 },
 "nbformat": 4,
 "nbformat_minor": 2
}

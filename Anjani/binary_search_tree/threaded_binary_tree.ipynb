{
 "cells": [
  {
   "cell_type": "code",
   "execution_count": 4,
   "metadata": {},
   "outputs": [
    {
     "name": "stdout",
     "output_type": "stream",
     "text": [
      "5 -> 10 -> 13 -> 14 -> 16 -> 17 -> 20 -> 30 -> X\n"
     ]
    }
   ],
   "source": [
    "class Node():\n",
    "    def __init__(self, data):\n",
    "        self.val = data\n",
    "        self.left = None\n",
    "        self.right = None\n",
    "        # Thread is True if the right pointer points to it's predecessor in inorder traversal\n",
    "        self.lthread = True\n",
    "        self.rthread = True\n",
    "\n",
    "def insert(root, key):\n",
    "    ptr = root\n",
    "    # Parent of the key to be inserted\n",
    "    par = None\n",
    "    while ptr is not None:\n",
    "        if ptr.val == key:\n",
    "            print('Duplicate Key! Please try again.')\n",
    "        par = ptr\n",
    "        if ptr.val > key:\n",
    "            if ptr.lthread == False:\n",
    "                ptr = ptr.left\n",
    "            else:\n",
    "                break\n",
    "        else:\n",
    "            if ptr.rthread == False:\n",
    "                ptr = ptr.right\n",
    "            else:\n",
    "                break\n",
    "    temp = Node(key)\n",
    "    if par == None:\n",
    "        root = temp\n",
    "        temp.left = None\n",
    "        temp.right = None\n",
    "    elif par.val > key:\n",
    "        temp.left = par.left\n",
    "        temp.right = par\n",
    "        par.left = temp\n",
    "        par.lthread = False\n",
    "    else:\n",
    "        temp.right = par.right\n",
    "        temp.left = par\n",
    "        par.right = temp\n",
    "        par.rthread = False\n",
    "    return root\n",
    "\n",
    "def inorder_successor(ptr):\n",
    "    if ptr.rthread == True:\n",
    "        return ptr.right\n",
    "    ptr = ptr.right\n",
    "    while ptr.lthread == False:\n",
    "        ptr = ptr.left\n",
    "    return ptr\n",
    "\n",
    "def inorder(root):\n",
    "    if root is None:\n",
    "        return root\n",
    "    ptr = root\n",
    "    while ptr.lthread == False:\n",
    "        ptr = ptr.left\n",
    "    while ptr is not None:\n",
    "        print(ptr.val, end = \" -> \")\n",
    "        ptr = inorder_successor(ptr)\n",
    "\n",
    "# Driver Code \n",
    "if __name__ == '__main__': \n",
    "    root = None\n",
    "  \n",
    "    root = insert(root, 20)  \n",
    "    root = insert(root, 10)  \n",
    "    root = insert(root, 30)  \n",
    "    root = insert(root, 5)  \n",
    "    root = insert(root, 16)  \n",
    "    root = insert(root, 14)  \n",
    "    root = insert(root, 17)  \n",
    "    root = insert(root, 13)  \n",
    "  \n",
    "    inorder(root)\n",
    "    print('X')"
   ]
  },
  {
   "cell_type": "code",
   "execution_count": null,
   "metadata": {},
   "outputs": [],
   "source": []
  }
 ],
 "metadata": {
  "kernelspec": {
   "display_name": "Python 3",
   "language": "python",
   "name": "python3"
  },
  "language_info": {
   "codemirror_mode": {
    "name": "ipython",
    "version": 3
   },
   "file_extension": ".py",
   "mimetype": "text/x-python",
   "name": "python",
   "nbconvert_exporter": "python",
   "pygments_lexer": "ipython3",
   "version": "3.6.8"
  }
 },
 "nbformat": 4,
 "nbformat_minor": 2
}

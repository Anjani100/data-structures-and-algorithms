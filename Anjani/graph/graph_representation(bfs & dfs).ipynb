{
 "cells": [
  {
   "cell_type": "code",
   "execution_count": 2,
   "metadata": {},
   "outputs": [
    {
     "name": "stdout",
     "output_type": "stream",
     "text": [
      "Following is DFS from (starting from vertex 2)\n",
      "2 -> 0 -> 1 -> 3 -> X\n"
     ]
    }
   ],
   "source": [
    "# for connected graphs\n",
    "from collections import defaultdict\n",
    "\n",
    "class Graph:\n",
    "    def __init__(self):\n",
    "        self.graph = defaultdict(list)\n",
    "    \n",
    "    def add_edge(self, u, v):\n",
    "        self.graph[u].append(v)\n",
    "    \n",
    "    def DFS_util(self, v, visited):\n",
    "        visited[v] = True\n",
    "        print(v, end = \" -> \")\n",
    "        for i in self.graph[v]:\n",
    "            if visited[i] == False:\n",
    "                self.DFS_util(i, visited)\n",
    "    \n",
    "    def DFS(self, v):\n",
    "        visited = [False] * (max(self.graph) + 1)\n",
    "        self.DFS_util(v, visited)\n",
    "\n",
    "if __name__=='__main__':\n",
    "    g = Graph() \n",
    "    g.add_edge(0, 1)\n",
    "    g.add_edge(0, 2)\n",
    "    g.add_edge(1, 2)\n",
    "    g.add_edge(2, 0)\n",
    "    g.add_edge(2, 3)\n",
    "    g.add_edge(3, 3)\n",
    "\n",
    "    print(\"Following is DFS from (starting from vertex 2)\")\n",
    "    g.DFS(2)\n",
    "    print('X')"
   ]
  },
  {
   "cell_type": "code",
   "execution_count": 23,
   "metadata": {},
   "outputs": [
    {
     "name": "stdout",
     "output_type": "stream",
     "text": [
      "1 -> 2 -> 5 -> 3 -> 4 -> 7 -> 6 -> 8 -> X\n"
     ]
    }
   ],
   "source": [
    "# for disconnected graphs\n",
    "from collections import defaultdict\n",
    "\n",
    "class Graph:\n",
    "    def __init__(self):\n",
    "        self.graph = defaultdict(list)\n",
    "    \n",
    "    def add_edge(self, u, v):\n",
    "        self.graph[u].append(v)\n",
    "    \n",
    "    def DFS_util(self, visited, v):\n",
    "        visited[v] = True\n",
    "        print(v, end = \" -> \")\n",
    "        if len(self.graph[v]) == 0:\n",
    "            del self.graph[v]\n",
    "        else:\n",
    "            for i in self.graph[v]:\n",
    "                if visited[i] == False:\n",
    "                    self.DFS_util(visited, i)\n",
    "    \n",
    "    def DFS(self):\n",
    "        visited = [False] * (max(self.graph) + 1)\n",
    "        for i in self.graph:\n",
    "            if visited[i] == False:\n",
    "                self.DFS_util(visited, i)\n",
    "\n",
    "if __name__=='__main__':\n",
    "    g = Graph()\n",
    "    g.add_edge(1, 2)\n",
    "    g.add_edge(1, 3)\n",
    "    g.add_edge(1, 4)\n",
    "    g.add_edge(2, 5)\n",
    "    g.add_edge(7, 6)\n",
    "    g.add_edge(8, 1)\n",
    "    g.DFS()\n",
    "    print('X')"
   ]
  },
  {
   "cell_type": "code",
   "execution_count": null,
   "metadata": {},
   "outputs": [],
   "source": []
  }
 ],
 "metadata": {
  "kernelspec": {
   "display_name": "Python 3",
   "language": "python",
   "name": "python3"
  },
  "language_info": {
   "codemirror_mode": {
    "name": "ipython",
    "version": 3
   },
   "file_extension": ".py",
   "mimetype": "text/x-python",
   "name": "python",
   "nbconvert_exporter": "python",
   "pygments_lexer": "ipython3",
   "version": "3.6.8"
  }
 },
 "nbformat": 4,
 "nbformat_minor": 2
}

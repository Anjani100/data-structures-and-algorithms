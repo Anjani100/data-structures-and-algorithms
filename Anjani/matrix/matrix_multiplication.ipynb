{
 "cells": [
  {
   "cell_type": "markdown",
   "metadata": {},
   "source": [
    "## Matrix Multiplication\n",
    "\n",
    "* Given 2 user input matrix, figure out the matrix multiplication of the matrices (if possible) and return the resultant matrix.\n",
    "\n",
    "* Input: \n",
    "```\n",
    "A -> a (m * n) matrix\n",
    "B -> a (p * q) matrix\n",
    "```\n",
    "\n",
    "* Output:\n",
    "```\n",
    "C -> a (m * q) matrix if n = p, otherwise, Not Divisible!\n",
    "```"
   ]
  },
  {
   "cell_type": "code",
   "execution_count": 26,
   "metadata": {},
   "outputs": [
    {
     "name": "stdout",
     "output_type": "stream",
     "text": [
      "Enter the number of rows in the first matrix: 1\n",
      "Enter the number of columns in the first matrix: 1\n",
      "Enter 0, 0 element of 1st matrix: 5\n",
      "Enter the number of rows in the first matrix: 2\n",
      "Enter the number of columns in the first matrix: 1\n",
      "Enter 0, 0 element of 2nd matrix: 5\n",
      "Enter 1, 0 element of 2nd matrix: 7\n",
      "Matrix Multiplication is not possible!\n"
     ]
    }
   ],
   "source": [
    "def multiply():\n",
    "    m = int(input('Enter the number of rows in the first matrix: '))\n",
    "    n = int(input('Enter the number of columns in the first matrix: '))\n",
    "\n",
    "    a = []\n",
    "    for i in range(m):\n",
    "        one_d_array = []\n",
    "        for j in range(n):\n",
    "            s = int(input('Enter ' + str(i) + \", \" + str(j) + ' element of 1st matrix: '))\n",
    "            one_d_array.append(s)\n",
    "        a.append(one_d_array)\n",
    "\n",
    "    p = int(input('Enter the number of rows in the first matrix: '))\n",
    "    q = int(input('Enter the number of columns in the first matrix: '))\n",
    "\n",
    "    b = []\n",
    "    for i in range(p):\n",
    "        one_d_array = []\n",
    "        for j in range(q):\n",
    "            s = int(input('Enter ' + str(i) + \", \" + str(j) + ' element of 2nd matrix: '))\n",
    "            one_d_array.append(s)\n",
    "        b.append(one_d_array)\n",
    "\n",
    "    if n != p:\n",
    "        return \"Matrix Multiplication is not possible!\"\n",
    "    \n",
    "    c = []\n",
    "    for i in range(m):\n",
    "        c.append([0] * p)\n",
    "    \n",
    "    for i in range(m):\n",
    "        for j in range(p):\n",
    "            for k in range(n):\n",
    "                c[i][j] += a[i][k] * b[k][j]\n",
    "    \n",
    "    return c\n",
    "\n",
    "if __name__=='__main__':\n",
    "    result = multiply()\n",
    "    print(result)"
   ]
  }
 ],
 "metadata": {
  "kernelspec": {
   "display_name": "Python 3",
   "language": "python",
   "name": "python3"
  },
  "language_info": {
   "codemirror_mode": {
    "name": "ipython",
    "version": 3
   },
   "file_extension": ".py",
   "mimetype": "text/x-python",
   "name": "python",
   "nbconvert_exporter": "python",
   "pygments_lexer": "ipython3",
   "version": "3.6.8"
  }
 },
 "nbformat": 4,
 "nbformat_minor": 2
}

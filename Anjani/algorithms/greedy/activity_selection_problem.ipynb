{
 "cells": [
  {
   "cell_type": "code",
   "execution_count": 1,
   "metadata": {},
   "outputs": [
    {
     "name": "stdout",
     "output_type": "stream",
     "text": [
      "[0, 2]\n"
     ]
    }
   ],
   "source": [
    "def activity_selection_problem(start, finish):\n",
    "    time_duration = []\n",
    "    result = []\n",
    "    for i in range(len(start)):\n",
    "        time_duration.append([start[i], finish[i]])\n",
    "    time_duration.sort(key = lambda x: x[1])\n",
    "    res = [time_duration[0]]\n",
    "    for i in range(1, len(time_duration)):\n",
    "        if time_duration[i][0] >= res[-1][1]:\n",
    "            res.append(time_duration[i])\n",
    "    for i in res:\n",
    "        result.append(start.index(i[0]))\n",
    "    return result\n",
    "\n",
    "print(activity_selection_problem([10, 12, 20], [20, 25, 30]))"
   ]
  },
  {
   "cell_type": "code",
   "execution_count": null,
   "metadata": {},
   "outputs": [],
   "source": [
    "[10, 12, 20], [20, 25, 30]\n",
    "[1, 3, 0, 5, 8, 5], [2, 4, 6, 7, 9, 9]"
   ]
  }
 ],
 "metadata": {
  "kernelspec": {
   "display_name": "Python 3",
   "language": "python",
   "name": "python3"
  },
  "language_info": {
   "codemirror_mode": {
    "name": "ipython",
    "version": 3
   },
   "file_extension": ".py",
   "mimetype": "text/x-python",
   "name": "python",
   "nbconvert_exporter": "python",
   "pygments_lexer": "ipython3",
   "version": "3.6.8"
  }
 },
 "nbformat": 4,
 "nbformat_minor": 2
}

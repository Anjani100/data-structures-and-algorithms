{
 "cells": [
  {
   "cell_type": "code",
   "execution_count": 18,
   "metadata": {},
   "outputs": [
    {
     "name": "stdout",
     "output_type": "stream",
     "text": [
      "The egyptian fraction of 12 / 13 is: 1/2 + 1/3 + 1/12 + 1/156\n"
     ]
    }
   ],
   "source": [
    "import math\n",
    "def egyptian_fraction(n, d):\n",
    "    unit_fraction = []\n",
    "    res = 'The egyptian fraction of ' + str(n) + ' / ' + str(d) + ' is: '\n",
    "    while n > 0:\n",
    "        unit_denominator = int(math.ceil(d / n))\n",
    "        unit_fraction.append(unit_denominator)\n",
    "        n = (n * unit_denominator) - d\n",
    "        d *= unit_denominator\n",
    "    for i in range(len(unit_fraction) - 1):\n",
    "        res += '1/' + str(unit_fraction[i]) + ' + '\n",
    "    res += '1/' + str(unit_fraction[-1])\n",
    "    return res\n",
    "\n",
    "print(egyptian_fraction(12, 13))"
   ]
  },
  {
   "cell_type": "code",
   "execution_count": null,
   "metadata": {},
   "outputs": [],
   "source": []
  }
 ],
 "metadata": {
  "kernelspec": {
   "display_name": "Python 3",
   "language": "python",
   "name": "python3"
  },
  "language_info": {
   "codemirror_mode": {
    "name": "ipython",
    "version": 3
   },
   "file_extension": ".py",
   "mimetype": "text/x-python",
   "name": "python",
   "nbconvert_exporter": "python",
   "pygments_lexer": "ipython3",
   "version": "3.6.8"
  }
 },
 "nbformat": 4,
 "nbformat_minor": 2
}

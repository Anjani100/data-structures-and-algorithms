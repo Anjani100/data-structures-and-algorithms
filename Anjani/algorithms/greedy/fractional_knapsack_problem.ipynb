{
 "cells": [
  {
   "cell_type": "code",
   "execution_count": 15,
   "metadata": {},
   "outputs": [
    {
     "name": "stdout",
     "output_type": "stream",
     "text": [
      "240\n"
     ]
    }
   ],
   "source": [
    "def fractional_knapsack(values, weights, capacity):\n",
    "    if sum(values) <= capacity:\n",
    "        return sum(weights)\n",
    "    misc = []\n",
    "    res = 0\n",
    "    for i in range(len(values)):\n",
    "        ratio = weights[i] / values[i]\n",
    "        misc.append([values[i], weights[i], ratio])\n",
    "    misc.sort(key = lambda x: x[2], reverse = True)\n",
    "    i = 0\n",
    "    while capacity > 0:\n",
    "        if capacity > misc[i][0]:\n",
    "            capacity -= misc[i][0]\n",
    "            res += misc[i][1]\n",
    "        else:\n",
    "            res += int(misc[i][2] * capacity)\n",
    "            break\n",
    "        i += 1\n",
    "    return res\n",
    "\n",
    "print(fractional_knapsack([10, 20, 30], [60, 100, 120], 50))"
   ]
  },
  {
   "cell_type": "code",
   "execution_count": null,
   "metadata": {},
   "outputs": [],
   "source": []
  }
 ],
 "metadata": {
  "kernelspec": {
   "display_name": "Python 3",
   "language": "python",
   "name": "python3"
  },
  "language_info": {
   "codemirror_mode": {
    "name": "ipython",
    "version": 3
   },
   "file_extension": ".py",
   "mimetype": "text/x-python",
   "name": "python",
   "nbconvert_exporter": "python",
   "pygments_lexer": "ipython3",
   "version": "3.6.8"
  }
 },
 "nbformat": 4,
 "nbformat_minor": 2
}

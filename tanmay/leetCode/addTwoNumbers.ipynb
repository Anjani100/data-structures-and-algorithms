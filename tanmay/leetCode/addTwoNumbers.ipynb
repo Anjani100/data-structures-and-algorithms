{
 "cells": [
  {
   "cell_type": "code",
   "execution_count": null,
   "metadata": {},
   "outputs": [],
   "source": [
    "# Definition for singly-linked list.\n",
    "# class ListNode:\n",
    "#     def __init__(self, val=0, next=None):\n",
    "#         self.val = val\n",
    "#         self.next = next\n",
    "class Solution:\n",
    "    def addTwoNumbers(self, l1: ListNode, l2: ListNode) -> ListNode:\n",
    "        \n",
    "        input_1 = 0\n",
    "        temp_1 = l1\n",
    "        i = 0\n",
    "        while(temp_1):\n",
    "            input_1 = input_1 + (int(temp_1.val)*pow(10,i))\n",
    "            temp_1 = temp_1.next\n",
    "            i+=1\n",
    "            \n",
    "        input_2 = 0\n",
    "        temp_2 = l2\n",
    "        i = 0\n",
    "        while(temp_2):\n",
    "            input_2 = input_2 + (int(temp_2.val)*pow(10,i))\n",
    "            temp_2 = temp_2.next\n",
    "            i+=1\n",
    "        \n",
    "        total = input_2+input_1\n",
    "        che = 0\n",
    "        total = str(total)\n",
    "        node = None\n",
    "        for i in total:\n",
    "            new_node = ListNode(i)\n",
    "            new_node.next = node\n",
    "            node = new_node    \n",
    "        # node.val = input_2\n",
    "        return node\n",
    "            "
   ]
  }
 ],
 "metadata": {
  "kernelspec": {
   "display_name": "Python 3",
   "language": "python",
   "name": "python3"
  },
  "language_info": {
   "codemirror_mode": {
    "name": "ipython",
    "version": 3
   },
   "file_extension": ".py",
   "mimetype": "text/x-python",
   "name": "python",
   "nbconvert_exporter": "python",
   "pygments_lexer": "ipython3",
   "version": "3.6.9"
  }
 },
 "nbformat": 4,
 "nbformat_minor": 4
}

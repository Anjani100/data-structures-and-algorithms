{
 "cells": [
  {
   "cell_type": "code",
   "execution_count": 15,
   "metadata": {},
   "outputs": [],
   "source": [
    "class BNode:\n",
    "    def __init__(self,data):\n",
    "        self.data = data \n",
    "        self.left = None\n",
    "        self.right = None"
   ]
  },
  {
   "cell_type": "code",
   "execution_count": 13,
   "metadata": {
    "tags": []
   },
   "outputs": [
    {
     "name": "stdout",
     "output_type": "stream",
     "text": [
      "4 2 5 1 3 \n",
      "1 2 4 5 3 \n",
      "2 4 5 3 1"
     ]
    }
   ],
   "source": [
    "def inorder(root):\n",
    "    if root:\n",
    "        inorder(root.left)\n",
    "        print(root.data, end = \" \")\n",
    "        inorder(root.right)\n",
    "\n",
    "def preorder(root):\n",
    "    if root:\n",
    "        print(root.data, end = \" \")\n",
    "        preorder(root.left)\n",
    "        preorder(root.right)\n",
    "\n",
    "def postorder(root):\n",
    "    if root:\n",
    "        preorder(root.left)\n",
    "        preorder(root.right)\n",
    "        print(root.data, end = \" \")\n",
    "\n",
    "\n",
    "root = BNode(1) \n",
    "root.left      = BNode(2) \n",
    "root.right     = BNode(3) \n",
    "root.left.left  = BNode(4) \n",
    "root.left.right  = BNode(5)\n",
    "\n",
    "inorder(root)\n",
    "print()\n",
    "preorder(root)\n",
    "print()\n",
    "postorder(root)"
   ]
  },
  {
   "cell_type": "code",
   "execution_count": 21,
   "metadata": {
    "tags": []
   },
   "outputs": [
    {
     "name": "stdout",
     "output_type": "stream",
     "text": [
      "1 2 4 5 3 \n"
     ]
    }
   ],
   "source": [
    "def preorderWithout(root):\n",
    "    if root is None:\n",
    "        return \n",
    "    nodeStack = []\n",
    "    nodeStack.append(root)\n",
    "    while (len(nodeStack)):\n",
    "        node = nodeStack.pop()\n",
    "        print(node.data, end = \" \")\n",
    "\n",
    "        if node.right is not None: \n",
    "            nodeStack.append(node.right) \n",
    "        if node.left is not None: \n",
    "            nodeStack.append(node.left)\n",
    "    print()\n",
    "\n",
    "\n",
    "root = BNode(1) \n",
    "root.left      = BNode(2) \n",
    "root.right     = BNode(3) \n",
    "root.left.left  = BNode(4) \n",
    "root.left.right  = BNode(5)\n",
    "\n",
    "preorderWithout(root)"
   ]
  },
  {
   "cell_type": "code",
   "execution_count": null,
   "metadata": {},
   "outputs": [],
   "source": []
  }
 ],
 "metadata": {
  "kernelspec": {
   "display_name": "Python 3",
   "language": "python",
   "name": "python3"
  },
  "language_info": {
   "codemirror_mode": {
    "name": "ipython",
    "version": 3
   },
   "file_extension": ".py",
   "mimetype": "text/x-python",
   "name": "python",
   "nbconvert_exporter": "python",
   "pygments_lexer": "ipython3",
   "version": "3.6.9"
  }
 },
 "nbformat": 4,
 "nbformat_minor": 2
}

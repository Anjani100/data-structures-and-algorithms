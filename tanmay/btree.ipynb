{
 "cells": [
  {
   "cell_type": "code",
   "execution_count": 1,
   "metadata": {},
   "outputs": [],
   "source": [
    "class BNode:\n",
    "    def __init__(self,data):\n",
    "        self.data = data \n",
    "        self.left = None\n",
    "        self.right = None"
   ]
  },
  {
   "cell_type": "code",
   "execution_count": null,
   "metadata": {},
   "outputs": [],
   "source": [
    "\n",
    "    def __init__(self):\n",
    "        head = None\n",
    "\n",
    "    def inorder(self,root):\n",
    "        if root:\n",
    "            self.inorder(root.left)\n",
    "            print(root.data)\n",
    "            self.inorder(root.right)\n",
    "\n",
    "    def new_node(self,data):\n",
    "        new_node = BNode(data)\n",
    "        new_node.left = None\n",
    "        new_node.right = None\n",
    "\n",
    "    def insertLeft(self,)\n"
   ]
  }
 ],
 "metadata": {
  "language_info": {
   "codemirror_mode": {
    "name": "ipython",
    "version": 3
   },
   "file_extension": ".py",
   "mimetype": "text/x-python",
   "name": "python",
   "nbconvert_exporter": "python",
   "pygments_lexer": "ipython3",
   "version": 3
  },
  "orig_nbformat": 2,
  "kernelspec": {
   "name": "python_defaultSpec_1599718284851",
   "display_name": "Python 3.6.9 64-bit"
  }
 },
 "nbformat": 4,
 "nbformat_minor": 2
}
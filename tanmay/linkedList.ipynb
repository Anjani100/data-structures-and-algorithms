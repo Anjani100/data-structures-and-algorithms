{
 "cells": [
  {
   "cell_type": "code",
   "execution_count": 48,
   "metadata": {},
   "outputs": [],
   "source": [
    "class node:\n",
    "    def __init__(self, data):\n",
    "        self.data = data\n",
    "        self.next = None\n",
    "\n",
    "class linkedList:\n",
    "    \n",
    "    def __init__(self):\n",
    "        self.head = None\n",
    "    \n",
    "    def push(self,new_data):\n",
    "        new_node = node(new_data)\n",
    "        new_node.next = self.head\n",
    "        self.head = new_node\n",
    "    \n",
    "    def pull(self):\n",
    "        self.head = self.head.next\n",
    "    \n",
    "    def deleteFromLast(self):\n",
    "        temp = self.head\n",
    "        while(temp.next.next):\n",
    "            temp = temp.next\n",
    "        temp.next = None\n",
    "\n",
    "    def insertAtLast(self,data):\n",
    "        new_node = node(data)\n",
    "        temp = self.head\n",
    "        while(temp.next):\n",
    "            temp = temp.next\n",
    "        temp.next = new_node\n",
    "        new_node.next = None\n",
    "\n",
    "    def deleteAt(self,position):\n",
    "        i = 1\n",
    "        temp = self.head\n",
    "        while(i!=position):\n",
    "            print(i)\n",
    "            temp = temp.next\n",
    "            i+=1\n",
    "        temp.next = temp.next.next\n",
    "\n",
    "    def deleteIt(self,data):\n",
    "        temp = self.head\n",
    "        while(temp.next.data != data):\n",
    "            temp = temp.next\n",
    "        temp.next = temp.next.next\n",
    "\n",
    "    def print(self):\n",
    "        temp = self.head\n",
    "        while(temp):\n",
    "            print(temp.data, end = \" \")\n",
    "            temp = temp.next\n",
    "        print()\n"
   ]
  },
  {
   "cell_type": "code",
   "execution_count": 49,
   "metadata": {
    "tags": []
   },
   "outputs": [
    {
     "output_type": "stream",
     "name": "stdout",
     "text": "6 5 4 3 2 1 \n5 4 3 2 1 \n5 4 3 2 \n5 4 3 2 4 \n5 3 2 4 \n5 3 4 \n"
    }
   ],
   "source": [
    "llist = linkedList()\n",
    "llist.push(1)\n",
    "llist.push(2)\n",
    "llist.push(3)\n",
    "llist.push(4)\n",
    "llist.push(5)\n",
    "llist.push(6)\n",
    "llist.print()\n",
    "llist.pull()\n",
    "llist.print()\n",
    "llist.deleteFromLast()\n",
    "llist.print()\n",
    "llist.insertAtLast(4)\n",
    "llist.print()\n",
    "llist.deleteAt(1)\n",
    "llist.print()\n",
    "llist.deleteIt(2)\n",
    "llist.print()"
   ]
  },
  {
   "cell_type": "code",
   "execution_count": null,
   "metadata": {},
   "outputs": [],
   "source": []
  }
 ],
 "metadata": {
  "language_info": {
   "codemirror_mode": {
    "name": "ipython",
    "version": 3
   },
   "file_extension": ".py",
   "mimetype": "text/x-python",
   "name": "python",
   "nbconvert_exporter": "python",
   "pygments_lexer": "ipython3",
   "version": 3
  },
  "orig_nbformat": 2,
  "kernelspec": {
   "name": "python_defaultSpec_1599713420425",
   "display_name": "Python 3.6.9 64-bit"
  }
 },
 "nbformat": 4,
 "nbformat_minor": 2
}
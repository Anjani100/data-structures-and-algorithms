{
 "cells": [
  {
   "cell_type": "code",
   "execution_count": 20,
   "metadata": {},
   "outputs": [],
   "source": [
    "def preFix(expression):\n",
    "    \n",
    "    stack = []\n",
    "\n",
    "    for c in expression[::-1]:\n",
    "        print(c, end = \" \")\n",
    "        if c.isdigit():\n",
    "            stack.append(int(c))\n",
    "        else:\n",
    "            a = stack.pop()\n",
    "            b = stack.pop()\n",
    "            if c == \"+\":\n",
    "                stack.append(a+b)\n",
    "            if c == \"-\":\n",
    "                stack.append(a-b)\n",
    "            if c == \"*\":\n",
    "                stack.append(a*b)\n",
    "            if c == \"/\":\n",
    "                stack.append(a/b)\n",
    "    return stack"
   ]
  },
  {
   "cell_type": "code",
   "execution_count": 21,
   "metadata": {
    "tags": []
   },
   "outputs": [
    {
     "output_type": "stream",
     "name": "stdout",
     "text": "6 2 * 9 +"
    },
    {
     "output_type": "execute_result",
     "data": {
      "text/plain": "[21]"
     },
     "metadata": {},
     "execution_count": 21
    }
   ],
   "source": [
    "preFix(\"+9*26\")"
   ]
  },
  {
   "cell_type": "code",
   "execution_count": 26,
   "metadata": {},
   "outputs": [],
   "source": [
    "def postFix(expression):\n",
    "    \n",
    "    stack = []\n",
    "\n",
    "    for c in expression[::1]:\n",
    "        # print(c, end = \" \")\n",
    "        if c.isdigit():\n",
    "            stack.append(int(c))\n",
    "        else:\n",
    "            print(c,stack)\n",
    "            a = stack.pop()\n",
    "            b = stack.pop()\n",
    "            if c == \"+\":\n",
    "                stack.append(a+b)\n",
    "            if c == \"-\":\n",
    "                stack.append(a-b)\n",
    "            if c == \"*\":\n",
    "                stack.append(a*b)\n",
    "            if c == \"/\":\n",
    "                stack.append(a/b)\n",
    "    return stack"
   ]
  },
  {
   "cell_type": "code",
   "execution_count": 27,
   "metadata": {
    "tags": []
   },
   "outputs": [
    {
     "output_type": "stream",
     "name": "stdout",
     "text": "+ [2, 3]\n* [5, 2]\n"
    },
    {
     "output_type": "execute_result",
     "data": {
      "text/plain": "[10]"
     },
     "metadata": {},
     "execution_count": 27
    }
   ],
   "source": [
    "postFix(\"23+2*\")"
   ]
  },
  {
   "cell_type": "code",
   "execution_count": 42,
   "metadata": {},
   "outputs": [],
   "source": [
    "def postFixToInfix(expression):\n",
    "    stack = []\n",
    "    \n",
    "    for c in expression[::1]:\n",
    "        if c.isdigit():\n",
    "            stack.insert(0,c)\n",
    "            print(stack)\n",
    "        else:\n",
    "            op1 = stack[0]  \n",
    "            stack.pop(0)  \n",
    "            op2 = stack[0]  \n",
    "            stack.pop(0)  \n",
    "            stack.insert(0, \"(\" + op2 + c + op1 + \")\")\n",
    "    return stack[0]"
   ]
  },
  {
   "cell_type": "code",
   "execution_count": 43,
   "metadata": {
    "tags": []
   },
   "outputs": [
    {
     "output_type": "stream",
     "name": "stdout",
     "text": "['2']\n['3', '2']\n['2', '(2+3)']\n"
    },
    {
     "output_type": "execute_result",
     "data": {
      "text/plain": "'((2+3)*2)'"
     },
     "metadata": {},
     "execution_count": 43
    }
   ],
   "source": [
    "postFixToInfix(\"23+2*\")"
   ]
  },
  {
   "cell_type": "code",
   "execution_count": 44,
   "metadata": {},
   "outputs": [],
   "source": [
    "def preFixToInfix(expression):\n",
    "    stack = []\n",
    "    \n",
    "    for c in expression[::-1]:\n",
    "        if c.isdigit():\n",
    "            stack.insert(0,c)\n",
    "            print(stack)\n",
    "        else:\n",
    "            op1 = stack[0]  \n",
    "            stack.pop(0)  \n",
    "            op2 = stack[0]  \n",
    "            stack.pop(0)  \n",
    "            stack.insert(0, \"(\" + op2 + c + op1 + \")\")\n",
    "    return stack[0]"
   ]
  },
  {
   "cell_type": "code",
   "execution_count": 45,
   "metadata": {
    "tags": []
   },
   "outputs": [
    {
     "output_type": "stream",
     "name": "stdout",
     "text": "['6']\n['2', '6']\n['9', '(6*2)']\n"
    },
    {
     "output_type": "execute_result",
     "data": {
      "text/plain": "'((6*2)+9)'"
     },
     "metadata": {},
     "execution_count": 45
    }
   ],
   "source": [
    "preFixToInfix(\"+9*26\")"
   ]
  },
  {
   "cell_type": "code",
   "execution_count": null,
   "metadata": {},
   "outputs": [],
   "source": []
  }
 ],
 "metadata": {
  "language_info": {
   "codemirror_mode": {
    "name": "ipython",
    "version": 3
   },
   "file_extension": ".py",
   "mimetype": "text/x-python",
   "name": "python",
   "nbconvert_exporter": "python",
   "pygments_lexer": "ipython3",
   "version": 3
  },
  "orig_nbformat": 2,
  "kernelspec": {
   "name": "python_defaultSpec_1599756682366",
   "display_name": "Python 3.6.9 64-bit"
  }
 },
 "nbformat": 4,
 "nbformat_minor": 2
}
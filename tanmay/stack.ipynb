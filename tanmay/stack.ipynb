{
 "cells": [
  {
   "cell_type": "code",
   "execution_count": 20,
   "metadata": {},
   "outputs": [],
   "source": [
    "def preFix(expression):\n",
    "    \n",
    "    stack = []\n",
    "\n",
    "    for c in expression[::-1]:\n",
    "        print(c, end = \" \")\n",
    "        if c.isdigit():\n",
    "            stack.append(int(c))\n",
    "        else:\n",
    "            a = stack.pop()\n",
    "            b = stack.pop()\n",
    "            if c == \"+\":\n",
    "                stack.append(a+b)\n",
    "            if c == \"-\":\n",
    "                stack.append(a-b)\n",
    "            if c == \"*\":\n",
    "                stack.append(a*b)\n",
    "            if c == \"/\":\n",
    "                stack.append(a/b)\n",
    "    return stack"
   ]
  },
  {
   "cell_type": "code",
   "execution_count": 21,
   "metadata": {
    "tags": []
   },
   "outputs": [
    {
     "output_type": "stream",
     "name": "stdout",
     "text": "6 2 * 9 +"
    },
    {
     "output_type": "execute_result",
     "data": {
      "text/plain": "[21]"
     },
     "metadata": {},
     "execution_count": 21
    }
   ],
   "source": [
    "preFix(\"+9*26\")"
   ]
  },
  {
   "cell_type": "code",
   "execution_count": 26,
   "metadata": {},
   "outputs": [],
   "source": [
    "def postFix(expression):\n",
    "    \n",
    "    stack = []\n",
    "\n",
    "    for c in expression[::1]:\n",
    "        # print(c, end = \" \")\n",
    "        if c.isdigit():\n",
    "            stack.append(int(c))\n",
    "        else:\n",
    "            print(c,stack)\n",
    "            a = stack.pop()\n",
    "            b = stack.pop()\n",
    "            if c == \"+\":\n",
    "                stack.append(a+b)\n",
    "            if c == \"-\":\n",
    "                stack.append(a-b)\n",
    "            if c == \"*\":\n",
    "                stack.append(a*b)\n",
    "            if c == \"/\":\n",
    "                stack.append(a/b)\n",
    "    return stack"
   ]
  },
  {
   "cell_type": "code",
   "execution_count": 27,
   "metadata": {
    "tags": []
   },
   "outputs": [
    {
     "output_type": "stream",
     "name": "stdout",
     "text": "+ [2, 3]\n* [5, 2]\n"
    },
    {
     "output_type": "execute_result",
     "data": {
      "text/plain": "[10]"
     },
     "metadata": {},
     "execution_count": 27
    }
   ],
   "source": [
    "postFix(\"23+2*\")"
   ]
  },
  {
   "cell_type": "code",
   "execution_count": 40,
   "metadata": {},
   "outputs": [],
   "source": [
    "def postFixToInfix(expression):\n",
    "    stack = []\n",
    "    \n",
    "    for c in expression[::1]:\n",
    "        if c.isdigit():\n",
    "            stack.insert(0,c)\n",
    "            print(stack)\n",
    "        else:\n",
    "            op1 = stack[0]  \n",
    "            stack.pop(0)  \n",
    "            op2 = stack[0]  \n",
    "            stack.pop(0)  \n",
    "            stack.insert(0, \"(\" + op2 + c + op1 + \")\")\n",
    "    return stack[0]"
   ]
  },
  {
   "cell_type": "code",
   "execution_count": 41,
   "metadata": {
    "tags": []
   },
   "outputs": [
    {
     "output_type": "stream",
     "name": "stdout",
     "text": "['2']\n['3', '2']\n"
    },
    {
     "output_type": "error",
     "ename": "TypeError",
     "evalue": "unsupported operand type(s) for +: 'int' and 'str'",
     "traceback": [
      "\u001b[0;31m---------------------------------------------------------------------------\u001b[0m",
      "\u001b[0;31mTypeError\u001b[0m                                 Traceback (most recent call last)",
      "\u001b[0;32m<ipython-input-41-9062e0871bb3>\u001b[0m in \u001b[0;36m<module>\u001b[0;34m\u001b[0m\n\u001b[0;32m----> 1\u001b[0;31m \u001b[0mpostFixToInfix\u001b[0m\u001b[0;34m(\u001b[0m\u001b[0;34m\"23+2*\"\u001b[0m\u001b[0;34m)\u001b[0m\u001b[0;34m\u001b[0m\u001b[0;34m\u001b[0m\u001b[0m\n\u001b[0m",
      "\u001b[0;32m<ipython-input-40-0e09768ae001>\u001b[0m in \u001b[0;36mpostFixToInfix\u001b[0;34m(expression)\u001b[0m\n\u001b[1;32m     11\u001b[0m             \u001b[0mop2\u001b[0m \u001b[0;34m=\u001b[0m \u001b[0mstack\u001b[0m\u001b[0;34m[\u001b[0m\u001b[0;36m0\u001b[0m\u001b[0;34m]\u001b[0m\u001b[0;34m\u001b[0m\u001b[0;34m\u001b[0m\u001b[0m\n\u001b[1;32m     12\u001b[0m             \u001b[0mstack\u001b[0m\u001b[0;34m.\u001b[0m\u001b[0mpop\u001b[0m\u001b[0;34m(\u001b[0m\u001b[0;36m0\u001b[0m\u001b[0;34m)\u001b[0m\u001b[0;34m\u001b[0m\u001b[0;34m\u001b[0m\u001b[0m\n\u001b[0;32m---> 13\u001b[0;31m             \u001b[0mstack\u001b[0m\u001b[0;34m.\u001b[0m\u001b[0minsert\u001b[0m\u001b[0;34m(\u001b[0m\u001b[0;36m0\u001b[0m \u001b[0;34m+\u001b[0m \u001b[0mop2\u001b[0m \u001b[0;34m+\u001b[0m \u001b[0mc\u001b[0m \u001b[0;34m+\u001b[0m \u001b[0mop1\u001b[0m\u001b[0;34m)\u001b[0m\u001b[0;34m\u001b[0m\u001b[0;34m\u001b[0m\u001b[0m\n\u001b[0m\u001b[1;32m     14\u001b[0m     \u001b[0;32mreturn\u001b[0m \u001b[0mstack\u001b[0m\u001b[0;34m[\u001b[0m\u001b[0;36m0\u001b[0m\u001b[0;34m]\u001b[0m\u001b[0;34m\u001b[0m\u001b[0;34m\u001b[0m\u001b[0m\n",
      "\u001b[0;31mTypeError\u001b[0m: unsupported operand type(s) for +: 'int' and 'str'"
     ]
    }
   ],
   "source": [
    "postFixToInfix(\"23+2*\")"
   ]
  },
  {
   "cell_type": "code",
   "execution_count": null,
   "metadata": {},
   "outputs": [],
   "source": []
  }
 ],
 "metadata": {
  "language_info": {
   "codemirror_mode": {
    "name": "ipython",
    "version": 3
   },
   "file_extension": ".py",
   "mimetype": "text/x-python",
   "name": "python",
   "nbconvert_exporter": "python",
   "pygments_lexer": "ipython3",
   "version": 3
  },
  "orig_nbformat": 2,
  "kernelspec": {
   "name": "python_defaultSpec_1599756682366",
   "display_name": "Python 3.6.9 64-bit"
  }
 },
 "nbformat": 4,
 "nbformat_minor": 2
}
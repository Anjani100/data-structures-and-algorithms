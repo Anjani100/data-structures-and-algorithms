{
 "cells": [
  {
   "cell_type": "code",
   "execution_count": 1,
   "metadata": {},
   "outputs": [],
   "source": [
    "class Node():\n",
    "    def __init__(self,data):\n",
    "        self.data = data\n",
    "        self.height = 1\n",
    "        self.left = None\n",
    "        self.right = None"
   ]
  },
  {
   "cell_type": "code",
   "execution_count": 10,
   "metadata": {},
   "outputs": [],
   "source": [
    "class AVLTree():\n",
    "    def preFix(self,root):\n",
    "        \n",
    "        if root.left:\n",
    "            self.preFix(root.left)\n",
    "        print(root.data,end=\" \")\n",
    "        if root.right:\n",
    "            self.preFix(root.right)\n",
    "    \n",
    "    def getHeight(self,root):\n",
    "        if not root:\n",
    "            return 0\n",
    "        return root.height\n",
    "    \n",
    "    def getBalance(self,root):\n",
    "        if not root:\n",
    "            return 0\n",
    "        return self.getHeight(root.right)-self.getHeight(root.left)\n",
    "    \n",
    "    def leftRotate(self, A):\n",
    "        # initialize\n",
    "        B = A.right\n",
    "        D = B.left\n",
    "        # rotate\n",
    "        B.left = A\n",
    "        A.right = D\n",
    "        # Set height\n",
    "        A.height = 1+max(self.getHeight(A.left),self.getHeight(A.right))\n",
    "        B.height = 1+max(self.getHeight(B.left),self.getHeight(B.right))\n",
    "        \n",
    "        return B\n",
    "    \n",
    "    def rightRotate(self, A):\n",
    "        # initialize\n",
    "        B = A.left\n",
    "        D = B.right\n",
    "        # rotate\n",
    "        B.right = A\n",
    "        A.left = D\n",
    "        # Set height\n",
    "        A.height = 1+max(self.getHeight(A.left),self.getHeight(A.right))\n",
    "        B.height = 1+max(self.getHeight(B.left),self.getHeight(B.right))\n",
    "        \n",
    "        return B\n",
    "    \n",
    "    def insertion(self,root,key):\n",
    "        if not root:\n",
    "            return Node(key)\n",
    "        elif root.data > key:\n",
    "            root.left = self.insertion(root.left,key)\n",
    "        else:\n",
    "            root.right = self.insertion(root.right,key)\n",
    "        \n",
    "        root.height = 1+ max(self.getHeight(root.right),self.getHeight(root.right))\n",
    "        balance = self.getBalance(root)\n",
    "        \n",
    "        if balance > 1:\n",
    "            if root.left.val > key:\n",
    "                root = self.leftRotate(root.left)\n",
    "                return self.rightRotate(root)\n",
    "            if root.left.val < key:\n",
    "                return rightRotate(root)\n",
    "        if balance < -1:\n",
    "            if root.right.val < key:\n",
    "                return self.leftRotate(root)\n",
    "            if root.right.val >key:\n",
    "                root = self.rightRotate(root.right)\n",
    "                return self.leftRotate(root)\n",
    "        return root"
   ]
  },
  {
   "cell_type": "code",
   "execution_count": 11,
   "metadata": {},
   "outputs": [
    {
     "name": "stdout",
     "output_type": "stream",
     "text": [
      "1 2 3 5 14 "
     ]
    }
   ],
   "source": [
    "node = AVLTree()\n",
    "root = None\n",
    "root = node.insertion(root,2)\n",
    "root = node.insertion(root,3)\n",
    "root = node.insertion(root,1)\n",
    "root = node.insertion(root,14)\n",
    "root = node.insertion(root,5)\n",
    "node.preFix(root)"
   ]
  },
  {
   "cell_type": "code",
   "execution_count": null,
   "metadata": {},
   "outputs": [],
   "source": []
  }
 ],
 "metadata": {
  "kernelspec": {
   "display_name": "Python 3",
   "language": "python",
   "name": "python3"
  },
  "language_info": {
   "codemirror_mode": {
    "name": "ipython",
    "version": 3
   },
   "file_extension": ".py",
   "mimetype": "text/x-python",
   "name": "python",
   "nbconvert_exporter": "python",
   "pygments_lexer": "ipython3",
   "version": "3.6.9"
  }
 },
 "nbformat": 4,
 "nbformat_minor": 4
}

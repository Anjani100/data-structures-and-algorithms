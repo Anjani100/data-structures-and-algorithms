{
 "cells": [
  {
   "cell_type": "code",
   "execution_count": 35,
   "metadata": {},
   "outputs": [],
   "source": [
    "class Sort:\n",
    "    def Bubble(self, List)->list:\n",
    "        if List == None or len(List) == 0:\n",
    "            return None\n",
    "        for i in range(len(List)):\n",
    "            for j in range(i,len(List)):\n",
    "                if List[i]>List[j]:\n",
    "                    List[i],List[j] = List[j],List[i]\n",
    "        return List\n",
    "    \n",
    "    def Insertion(self,List) -> list:\n",
    "        if List == None or len(List) == 0:\n",
    "            return None\n",
    "        for i in range(len(List)):\n",
    "            key = List[i]\n",
    "            j = i-1\n",
    "            while j>=0 and key < List[j]:\n",
    "                List[j+1],List[j] = List[j],List[j+1]\n",
    "                j-=1\n",
    "                \n",
    "        return List"
   ]
  },
  {
   "cell_type": "code",
   "execution_count": 36,
   "metadata": {},
   "outputs": [],
   "source": [
    "s = Sort()"
   ]
  },
  {
   "cell_type": "code",
   "execution_count": 38,
   "metadata": {},
   "outputs": [
    {
     "name": "stdout",
     "output_type": "stream",
     "text": [
      "[1, 2, 2, 5, 6]\n",
      "[1, 2, 2, 5, 6]\n"
     ]
    }
   ],
   "source": [
    "List = [2,1,5,2,6]\n",
    "print(s.Bubble(List))\n",
    "List = [2,1,5,2,6]\n",
    "print(s.Insertion(List))\n",
    "List = [2,1,5,2,6]"
   ]
  }
 ],
 "metadata": {
  "kernelspec": {
   "display_name": "Python 3",
   "language": "python",
   "name": "python3"
  },
  "language_info": {
   "codemirror_mode": {
    "name": "ipython",
    "version": 3
   },
   "file_extension": ".py",
   "mimetype": "text/x-python",
   "name": "python",
   "nbconvert_exporter": "python",
   "pygments_lexer": "ipython3",
   "version": "3.6.9"
  }
 },
 "nbformat": 4,
 "nbformat_minor": 4
}

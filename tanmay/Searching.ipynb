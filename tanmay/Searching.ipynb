{
 "cells": [
  {
   "cell_type": "code",
   "execution_count": 118,
   "metadata": {},
   "outputs": [],
   "source": [
    "class Sorting:\n",
    "    def linear(self, List, number: int) -> int:\n",
    "        if List == None or len(List)<=0:\n",
    "            return -1\n",
    "        for i in range(len(List)):\n",
    "            if List[i] == number:\n",
    "                return i\n",
    "        return -1\n",
    "    \n",
    "    def binary(self, List, number: int) -> int:\n",
    "        if List == None or len(List) == 0:\n",
    "            return -1\n",
    "        lb = 0\n",
    "        ub = len(List)-1\n",
    "        while True:\n",
    "            if lb > ub:\n",
    "                return -1\n",
    "            md = int(lb + (ub-lb)/2)\n",
    "            if List[md] == number:\n",
    "                return md\n",
    "            if List[md] < number:\n",
    "                lb = md + 1\n",
    "            if List[md] > number:\n",
    "                ub = md-1\n",
    "                \n",
    "    def interpolation(self,List, number: int) -> int:\n",
    "        if List == None or len(List) == 0:\n",
    "            return -1\n",
    "        lb = 0\n",
    "        ub = len(List)-1\n",
    "        while True:\n",
    "            if lb > ub:\n",
    "                return -1\n",
    "            md = int(lb+((ub-lb)/(List[ub]-List[lb]))*(number-List[lb]))\n",
    "            if List[md] == number:\n",
    "                return md\n",
    "            if List[md] < number:\n",
    "                lb = md + 1\n",
    "            if List[md] > number:\n",
    "                ub = md-1\n",
    "                \n",
    "    def exponential(self, List, number:int)->int:\n",
    "        if List == None or len(List) == 0:\n",
    "            return -1\n",
    "        if len(List) == 1:\n",
    "            if List[0] == number:\n",
    "                return 0\n",
    "            return -1\n",
    "        i = 1\n",
    "        while i < len(List)-1:\n",
    "            if List[i]<number:\n",
    "                i = i*2\n",
    "            else:\n",
    "                break\n",
    "        temp_i = int(i/2)\n",
    "        temp_i += self.binary(List[temp_i:temp_i*2+1],number)\n",
    "        if temp_i == -1:\n",
    "            return -1\n",
    "        return temp_i"
   ]
  },
  {
   "cell_type": "code",
   "execution_count": 119,
   "metadata": {},
   "outputs": [],
   "source": [
    "s = Sorting()"
   ]
  },
  {
   "cell_type": "code",
   "execution_count": 123,
   "metadata": {},
   "outputs": [
    {
     "name": "stdout",
     "output_type": "stream",
     "text": [
      "linear:  0\n",
      "binary:  0\n",
      "interpolation:  3\n",
      "exponential:  2\n"
     ]
    }
   ],
   "source": [
    "List = [1,2,3,4,5]\n",
    "print(\"linear: \",s.linear(List,1))\n",
    "print(\"binary: \",s.binary(List,1))\n",
    "print(\"interpolation: \",s.interpolation(List,4))\n",
    "print(\"exponential: \",s.exponential(List,3))"
   ]
  }
 ],
 "metadata": {
  "kernelspec": {
   "display_name": "Python 3",
   "language": "python",
   "name": "python3"
  },
  "language_info": {
   "codemirror_mode": {
    "name": "ipython",
    "version": 3
   },
   "file_extension": ".py",
   "mimetype": "text/x-python",
   "name": "python",
   "nbconvert_exporter": "python",
   "pygments_lexer": "ipython3",
   "version": "3.6.9"
  }
 },
 "nbformat": 4,
 "nbformat_minor": 4
}

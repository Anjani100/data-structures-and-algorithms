{
 "cells": [
  {
   "cell_type": "code",
   "execution_count": 61,
   "metadata": {},
   "outputs": [],
   "source": [
    "class Solution:\n",
    "    def FractionalKnapsack(self, wt ,val,capacity)->int:\n",
    "        if len(wt) != len(val) or capacity == 0 or len(wt) == 0:\n",
    "            return None\n",
    "        for i in range(len(val)):\n",
    "            for j in range(i,len(val)):\n",
    "                if val[i]<val[j]:\n",
    "                    val[i],val[j] = val[j],val[i]\n",
    "                    wt[i],wt[j] = wt[j],wt[i]\n",
    "        temp = 0\n",
    "        for i in range(len(val)-1):\n",
    "            if capacity == 0:\n",
    "                break\n",
    "            if wt[i]<=capacity:\n",
    "                print(i,\" \",val[i],wt[i])\n",
    "                temp+=val[i]\n",
    "                capacity-=wt[i]\n",
    "                continue\n",
    "            if wt[i]>capacity:\n",
    "                print(\"Last: \",val[i],wt[i])\n",
    "                temp+=val[i]*(capacity)/wt[i]\n",
    "                break\n",
    "        return temp\n",
    "    def Knapsack(self,wt,val,capacity)->int:\n",
    "        if len(wt) != len(val) or capacity == 0 or len(wt) == 0:\n",
    "            return None\n",
    "        for i in range(len(val)):\n",
    "            for j in range(i,len(val)):\n",
    "                if val[i]<val[j]:\n",
    "                    val[i],val[j] = val[j],val[i]\n",
    "                    wt[i],wt[j] = wt[j],wt[i]\n",
    "        temp = 0\n",
    "        for i in range(len(val)-1):\n",
    "            if capacity == 0:\n",
    "                break\n",
    "            if wt[i]<=capacity:\n",
    "            \n",
    "                temp+=val[i]\n",
    "                capacity-=wt[i]\n",
    "                continue\n",
    "        return temp\n"
   ]
  },
  {
   "cell_type": "code",
   "execution_count": 62,
   "metadata": {},
   "outputs": [],
   "source": [
    "s = Solution()"
   ]
  },
  {
   "cell_type": "code",
   "execution_count": 63,
   "metadata": {},
   "outputs": [],
   "source": [
    "wt = [10, 40, 20, 30] \n",
    "val = [60, 40, 100, 120] \n",
    "capacity = 50"
   ]
  },
  {
   "cell_type": "code",
   "execution_count": 65,
   "metadata": {},
   "outputs": [
    {
     "name": "stdout",
     "output_type": "stream",
     "text": [
      "0   120 30\n",
      "1   100 20\n"
     ]
    },
    {
     "data": {
      "text/plain": [
       "220"
      ]
     },
     "execution_count": 65,
     "metadata": {},
     "output_type": "execute_result"
    }
   ],
   "source": [
    "s.FractionalKnapsack(wt,val,capacity)"
   ]
  },
  {
   "cell_type": "code",
   "execution_count": null,
   "metadata": {},
   "outputs": [],
   "source": [
    "s.Knapsack(wt,val,capacity)"
   ]
  }
 ],
 "metadata": {
  "kernelspec": {
   "display_name": "Python 3",
   "language": "python",
   "name": "python3"
  },
  "language_info": {
   "codemirror_mode": {
    "name": "ipython",
    "version": 3
   },
   "file_extension": ".py",
   "mimetype": "text/x-python",
   "name": "python",
   "nbconvert_exporter": "python",
   "pygments_lexer": "ipython3",
   "version": "3.6.9"
  }
 },
 "nbformat": 4,
 "nbformat_minor": 4
}

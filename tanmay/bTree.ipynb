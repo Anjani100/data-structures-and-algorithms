{
 "cells": [
  {
   "cell_type": "code",
   "execution_count": 20,
   "metadata": {},
   "outputs": [
    {
     "name": "stdout",
     "output_type": "stream",
     "text": [
      "Enter data for root: 1\n",
      "Enter a data (-1 to terminate): 2\n",
      "Enter a data (-1 to terminate): 3\n",
      "Enter a data (-1 to terminate): -1\n",
      "1 2 3 "
     ]
    }
   ],
   "source": [
    "class Node:\n",
    "\n",
    "    def __init__(self, data):\n",
    "\n",
    "        self.left = None\n",
    "        self.right = None\n",
    "        self.data = data\n",
    "\n",
    "    def insert(self, data):\n",
    "        if self.data:\n",
    "            if data < self.data:\n",
    "                if not self.left:\n",
    "                    self.left = Node(data)\n",
    "                else:\n",
    "                    self.left.insert(data)\n",
    "            elif data > self.data:\n",
    "                if not self.right:\n",
    "                    self.right = Node(data)\n",
    "                else:\n",
    "                    self.right.insert(data)\n",
    "        else:\n",
    "            self.data = data\n",
    "\n",
    "    def PrintTree(self):\n",
    "        print(self.data,end=\" \")\n",
    "        if self.left:\n",
    "            self.left.PrintTree()\n",
    "        if self.right:\n",
    "            self.right.PrintTree()\n",
    "        \n",
    "    \n",
    "    def create(self):\n",
    "        while True:\n",
    "            data = int(input(\"Enter a data (-1 to terminate): \"))\n",
    "            if data == -1:\n",
    "                break\n",
    "            self.insert(data)\n",
    "                \n",
    "    \n",
    "# Use the insert method to add nodes\n",
    "data = int(input(\"Enter data for root: \"))\n",
    "root = Node(data)\n",
    "root.create()\n",
    "\n",
    "root.PrintTree()"
   ]
  },
  {
   "cell_type": "code",
   "execution_count": 54,
   "metadata": {},
   "outputs": [],
   "source": [
    "class Btree():\n",
    "    def __init__(self,data):\n",
    "        self.data = data\n",
    "        self.left = None\n",
    "        self.right = None\n",
    "        \n",
    "    def insert(self,data):\n",
    "        if self.data:\n",
    "            if self.data > data:\n",
    "                if not self.left:\n",
    "                    self.left = Btree(data)\n",
    "                else:\n",
    "                    self.left.insert(data)\n",
    "            elif self.data < data:\n",
    "                if not self.right:\n",
    "                    self.right = Btree(data)\n",
    "                else:\n",
    "                    self.right.insert(data)\n",
    "                    \n",
    "        else:\n",
    "            self.data = data\n",
    "    \n",
    "    def preFix(self):\n",
    "        print(self.data,end=\" \")\n",
    "        if self.right:\n",
    "            self.right.preFix()\n",
    "        if self.left:\n",
    "            self.left.preFix()\n",
    "        "
   ]
  },
  {
   "cell_type": "code",
   "execution_count": 55,
   "metadata": {},
   "outputs": [
    {
     "name": "stdout",
     "output_type": "stream",
     "text": [
      "5 10 3 4 2 1 "
     ]
    }
   ],
   "source": [
    "r = Btree(5)\n",
    "r.insert(10)\n",
    "r.insert(3)\n",
    "r.insert(2)\n",
    "r.insert(1)\n",
    "r.insert(4)\n",
    "r.preFix()"
   ]
  },
  {
   "cell_type": "code",
   "execution_count": null,
   "metadata": {},
   "outputs": [],
   "source": []
  },
  {
   "cell_type": "code",
   "execution_count": null,
   "metadata": {},
   "outputs": [],
   "source": []
  }
 ],
 "metadata": {
  "kernelspec": {
   "display_name": "Python 3",
   "language": "python",
   "name": "python3"
  },
  "language_info": {
   "codemirror_mode": {
    "name": "ipython",
    "version": 3
   },
   "file_extension": ".py",
   "mimetype": "text/x-python",
   "name": "python",
   "nbconvert_exporter": "python",
   "pygments_lexer": "ipython3",
   "version": "3.6.9"
  }
 },
 "nbformat": 4,
 "nbformat_minor": 4
}

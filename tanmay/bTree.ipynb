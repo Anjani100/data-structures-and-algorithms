{
 "cells": [
  {
   "cell_type": "code",
   "execution_count": null,
   "metadata": {},
   "outputs": [],
   "source": [
    "class Node:\n",
    "\n",
    "    def __init__(self, data):\n",
    "\n",
    "        self.left = None\n",
    "        self.right = None\n",
    "        self.data = data\n",
    "\n",
    "    def insert(self, data):\n",
    "        if self.data:\n",
    "            if data < self.data:\n",
    "                if not self.left:\n",
    "                    self.left = Node(data)\n",
    "                else:\n",
    "                    self.left.insert(data)\n",
    "            elif data > self.data:\n",
    "                if not self.right:\n",
    "                    self.right = Node(data)\n",
    "                else:\n",
    "                    self.right.insert(data)\n",
    "        else:\n",
    "            self.data = data\n",
    "\n",
    "    def PrintTree(self):\n",
    "        print(self.data,end=\" \")\n",
    "        if self.left:\n",
    "            self.left.PrintTree()\n",
    "        if self.right:\n",
    "            self.right.PrintTree()\n",
    "        \n",
    "    def search(self,data):\n",
    "        if self.data == data:\n",
    "            return True\n",
    "        if self.data < data:\n",
    "            if not self.right:\n",
    "                return False\n",
    "            flag = self.right.search(data)\n",
    "        if self.data > data:\n",
    "            if not self.left:\n",
    "                return False\n",
    "            flag = self.left.search(data)\n",
    "        return flag\n",
    "    \n",
    "    def create(self):\n",
    "        while True:\n",
    "            data = int(input(\"Enter a data (-1 to terminate): \"))\n",
    "            if data == -1:\n",
    "                break\n",
    "            self.insert(data)\n",
    "                \n",
    "    \n",
    "# Use the insert method to add nodes\n",
    "data = int(input(\"Enter data for root: \"))\n",
    "root = Node(data)\n",
    "root.create()\n",
    "\n",
    "root.PrintTree()\n",
    "print(root.search(2))\n",
    "print(root.search(13))"
   ]
  },
  {
   "cell_type": "code",
   "execution_count": null,
   "metadata": {},
   "outputs": [],
   "source": []
  }
 ],
 "metadata": {
  "kernelspec": {
   "display_name": "Python 3",
   "language": "python",
   "name": "python3"
  },
  "language_info": {
   "codemirror_mode": {
    "name": "ipython",
    "version": 3
   },
   "file_extension": ".py",
   "mimetype": "text/x-python",
   "name": "python",
   "nbconvert_exporter": "python",
   "pygments_lexer": "ipython3",
   "version": "3.6.9"
  }
 },
 "nbformat": 4,
 "nbformat_minor": 4
}

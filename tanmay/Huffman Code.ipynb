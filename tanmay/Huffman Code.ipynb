{
 "cells": [
  {
   "cell_type": "code",
   "execution_count": 5,
   "metadata": {},
   "outputs": [
    {
     "name": "stdout",
     "output_type": "stream",
     "text": [
      " Char | Huffman code \n",
      "----------------------\n",
      " 'C'  |           0\n",
      " 'A'  |          11\n",
      " 'D'  |         101\n",
      " 'B'  |         100\n"
     ]
    }
   ],
   "source": [
    "# Creating tree nodes\n",
    "class NodeTree(object):\n",
    "\n",
    "    def __init__(self, left=None, right=None):\n",
    "        self.left = left\n",
    "        self.right = right\n",
    "\n",
    "    def children(self):\n",
    "        return (self.left, self.right)\n",
    "\n",
    "    def nodes(self):\n",
    "        return (self.left, self.right)\n",
    "\n",
    "    def __str__(self):\n",
    "        return '%s_%s' % (self.left, self.right)\n",
    "\n",
    "class huffmanCode:\n",
    "    # Main function implementing huffman coding\n",
    "    def huffman_code_tree(self,node, left=True, binString=''):\n",
    "        if type(node) is str:\n",
    "            return {node: binString}\n",
    "        (l, r) = node.children()\n",
    "        d = dict()\n",
    "        d.update(self.huffman_code_tree(l, True, binString + '0'))\n",
    "        d.update(self.huffman_code_tree(r, False, binString + '1'))\n",
    "        return d\n",
    "\n",
    "    def pre(self,string):\n",
    "        # Calculating frequency\n",
    "        freq = {}\n",
    "        for c in string:\n",
    "            if c in freq:\n",
    "                freq[c] += 1\n",
    "            else:\n",
    "                freq[c] = 1\n",
    "\n",
    "        freq = sorted(freq.items(), key=lambda x: x[1], reverse=True)\n",
    "\n",
    "        nodes = freq\n",
    "\n",
    "        while len(nodes) > 1:\n",
    "            (key1, c1) = nodes[-1]\n",
    "            (key2, c2) = nodes[-2]\n",
    "            nodes = nodes[:-2]\n",
    "            node = NodeTree(key1, key2)\n",
    "            nodes.append((node, c1 + c2))\n",
    "            nodes = sorted(nodes, key=lambda x: x[1], reverse=True)\n",
    "            \n",
    "        return nodes,freq\n",
    "    \n",
    "s = huffmanCode()\n",
    "nodes,freq = s.pre(string)\n",
    "huffmanCode = s.huffman_code_tree(nodes[0][0])\n",
    "\n",
    "print(' Char | Huffman code ')\n",
    "print('----------------------')\n",
    "for (char, frequency) in freq:\n",
    "    print(' %-4r |%12s' % (char, huffmanCode[char]))"
   ]
  },
  {
   "cell_type": "code",
   "execution_count": null,
   "metadata": {},
   "outputs": [],
   "source": []
  }
 ],
 "metadata": {
  "kernelspec": {
   "display_name": "Python 3.6.9 64-bit",
   "language": "python",
   "name": "python36964bit38dd8b7b8e264ffabb420cb0427742d2"
  },
  "language_info": {
   "codemirror_mode": {
    "name": "ipython",
    "version": 3
   },
   "file_extension": ".py",
   "mimetype": "text/x-python",
   "name": "python",
   "nbconvert_exporter": "python",
   "pygments_lexer": "ipython3",
   "version": "3.6.9"
  }
 },
 "nbformat": 4,
 "nbformat_minor": 4
}

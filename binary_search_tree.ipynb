{
 "cells": [
  {
   "cell_type": "markdown",
   "metadata": {},
   "source": [
    "## Binary Search Tree (BST)\n",
    "#### to-dos:\n",
    "\n",
    "- Insert elements in a BST\n",
    "- Search elements in a BST\n",
    "- Delete elements from a BST\n",
    "- Find the smallest term\n",
    "- Find the largest term\n",
    "- Display:\n",
    "    - Preorder\n",
    "    - Inorder\n",
    "    - Postorder"
   ]
  },
  {
   "cell_type": "code",
   "execution_count": null,
   "metadata": {},
   "outputs": [],
   "source": [
    "class Node:\n",
    "    def __init__(self, value):\n",
    "        self.right = None\n",
    "        self.left = None\n",
    "        self.val = value\n",
    "\n",
    "class BST:\n",
    "    \n",
    "    def __init__(self):\n",
    "        self.root = None\n",
    "    \n",
    "    def insertion(self, bst, num):\n",
    "        node = Node(num)\n",
    "        if bst.root == None:\n",
    "            bst.root = node\n",
    "        else:\n",
    "            if bst.root.val > node.val:\n",
    "                if bst.root.left == None:\n",
    "                    bst.root.left = node\n",
    "                else:\n",
    "                    bst = bst.insertion(bst.root.left, node)\n",
    "            else:\n",
    "                if bst.root.right == None:\n",
    "                    bst.root.right = node\n",
    "                else:\n",
    "                    bst = bst.insertion(bst.root.right, node)\n",
    "        return bst\n",
    "\n",
    "def main():\n",
    "    bst = BST()\n",
    "    while True:\n",
    "        print('1. Insert a value in BST.')\n",
    "        print('Enter -1 to exit.')\n",
    "        ch = int(input('Enter your choice: '))\n",
    "        if ch == 1:\n",
    "            num = int(input('Enter the number you wanna insert: '))\n",
    "            bst = bst.insertion(bst, num)\n",
    "            while True:\n",
    "                num = int(input('Enter -1 to exit. Enter the number you wanna insert: '))\n",
    "                if num == -1:\n",
    "                    break\n",
    "                bst = bst.insertion(bst, num)\n",
    "        elif ch == -1:\n",
    "            break\n",
    "\n",
    "if __name__=='__main__':\n",
    "    main()"
   ]
  },
  {
   "cell_type": "code",
   "execution_count": null,
   "metadata": {},
   "outputs": [],
   "source": []
  }
 ],
 "metadata": {
  "kernelspec": {
   "display_name": "Python 3",
   "language": "python",
   "name": "python3"
  },
  "language_info": {
   "codemirror_mode": {
    "name": "ipython",
    "version": 3
   },
   "file_extension": ".py",
   "mimetype": "text/x-python",
   "name": "python",
   "nbconvert_exporter": "python",
   "pygments_lexer": "ipython3",
   "version": "3.6.8"
  }
 },
 "nbformat": 4,
 "nbformat_minor": 2
}
